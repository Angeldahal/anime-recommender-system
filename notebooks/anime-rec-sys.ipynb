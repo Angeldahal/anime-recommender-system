{
 "cells": [
  {
   "cell_type": "markdown",
   "id": "3958ebb9",
   "metadata": {
    "papermill": {
     "duration": 0.013635,
     "end_time": "2023-05-27T08:24:18.925371",
     "exception": false,
     "start_time": "2023-05-27T08:24:18.911736",
     "status": "completed"
    },
    "tags": []
   },
   "source": [
    "# Anime Recommender System\n",
    "\n",
    "This notebook presents an anime recommender system that leverages both collaborative filtering and content-based filtering techniques. The recommender system aims to provide personalized anime recommendations based on user preferences and similarities between anime titles.\n"
   ]
  },
  {
   "cell_type": "code",
   "execution_count": 1,
   "id": "b3acf98d",
   "metadata": {
    "_cell_guid": "b1076dfc-b9ad-4769-8c92-a6c4dae69d19",
    "_uuid": "8f2839f25d086af736a60e9eeb907d3b93b6e0e5",
    "execution": {
     "iopub.execute_input": "2023-05-27T08:24:18.950371Z",
     "iopub.status.busy": "2023-05-27T08:24:18.949505Z",
     "iopub.status.idle": "2023-05-27T08:24:20.422817Z",
     "shell.execute_reply": "2023-05-27T08:24:20.421695Z"
    },
    "papermill": {
     "duration": 1.489087,
     "end_time": "2023-05-27T08:24:20.425873",
     "exception": false,
     "start_time": "2023-05-27T08:24:18.936786",
     "status": "completed"
    },
    "tags": []
   },
   "outputs": [],
   "source": [
    "import numpy as np\n",
    "import pandas as pd\n",
    "import matplotlib.pyplot as plt\n",
    "import seaborn as sns\n",
    "import re"
   ]
  },
  {
   "cell_type": "code",
   "execution_count": 2,
   "id": "b8350163",
   "metadata": {
    "execution": {
     "iopub.execute_input": "2023-05-27T08:24:20.450151Z",
     "iopub.status.busy": "2023-05-27T08:24:20.449703Z",
     "iopub.status.idle": "2023-05-27T08:24:20.454724Z",
     "shell.execute_reply": "2023-05-27T08:24:20.453691Z"
    },
    "papermill": {
     "duration": 0.019722,
     "end_time": "2023-05-27T08:24:20.456954",
     "exception": false,
     "start_time": "2023-05-27T08:24:20.437232",
     "status": "completed"
    },
    "tags": []
   },
   "outputs": [],
   "source": [
    "ratings_path = '/kaggle/input/anime-recommendation-database-2020/animelist.csv'\n",
    "data_path = '/kaggle/input/anime-recommendation-database-2020/anime.csv'"
   ]
  },
  {
   "cell_type": "code",
   "execution_count": 3,
   "id": "f3971451",
   "metadata": {
    "execution": {
     "iopub.execute_input": "2023-05-27T08:24:20.481945Z",
     "iopub.status.busy": "2023-05-27T08:24:20.481530Z",
     "iopub.status.idle": "2023-05-27T08:25:35.651486Z",
     "shell.execute_reply": "2023-05-27T08:25:35.650428Z"
    },
    "papermill": {
     "duration": 75.197482,
     "end_time": "2023-05-27T08:25:35.666038",
     "exception": false,
     "start_time": "2023-05-27T08:24:20.468556",
     "status": "completed"
    },
    "tags": []
   },
   "outputs": [
    {
     "data": {
      "text/html": [
       "<div>\n",
       "<style scoped>\n",
       "    .dataframe tbody tr th:only-of-type {\n",
       "        vertical-align: middle;\n",
       "    }\n",
       "\n",
       "    .dataframe tbody tr th {\n",
       "        vertical-align: top;\n",
       "    }\n",
       "\n",
       "    .dataframe thead th {\n",
       "        text-align: right;\n",
       "    }\n",
       "</style>\n",
       "<table border=\"1\" class=\"dataframe\">\n",
       "  <thead>\n",
       "    <tr style=\"text-align: right;\">\n",
       "      <th></th>\n",
       "      <th>MAL_ID</th>\n",
       "      <th>Name</th>\n",
       "      <th>Score</th>\n",
       "      <th>Genres</th>\n",
       "      <th>English name</th>\n",
       "      <th>Japanese name</th>\n",
       "      <th>Type</th>\n",
       "      <th>Episodes</th>\n",
       "      <th>Aired</th>\n",
       "      <th>Premiered</th>\n",
       "      <th>...</th>\n",
       "      <th>Score-10</th>\n",
       "      <th>Score-9</th>\n",
       "      <th>Score-8</th>\n",
       "      <th>Score-7</th>\n",
       "      <th>Score-6</th>\n",
       "      <th>Score-5</th>\n",
       "      <th>Score-4</th>\n",
       "      <th>Score-3</th>\n",
       "      <th>Score-2</th>\n",
       "      <th>Score-1</th>\n",
       "    </tr>\n",
       "  </thead>\n",
       "  <tbody>\n",
       "    <tr>\n",
       "      <th>0</th>\n",
       "      <td>1</td>\n",
       "      <td>Cowboy Bebop</td>\n",
       "      <td>8.78</td>\n",
       "      <td>Action, Adventure, Comedy, Drama, Sci-Fi, Space</td>\n",
       "      <td>Cowboy Bebop</td>\n",
       "      <td>カウボーイビバップ</td>\n",
       "      <td>TV</td>\n",
       "      <td>26</td>\n",
       "      <td>Apr 3, 1998 to Apr 24, 1999</td>\n",
       "      <td>Spring 1998</td>\n",
       "      <td>...</td>\n",
       "      <td>229170.0</td>\n",
       "      <td>182126.0</td>\n",
       "      <td>131625.0</td>\n",
       "      <td>62330.0</td>\n",
       "      <td>20688.0</td>\n",
       "      <td>8904.0</td>\n",
       "      <td>3184.0</td>\n",
       "      <td>1357.0</td>\n",
       "      <td>741.0</td>\n",
       "      <td>1580.0</td>\n",
       "    </tr>\n",
       "    <tr>\n",
       "      <th>1</th>\n",
       "      <td>5</td>\n",
       "      <td>Cowboy Bebop: Tengoku no Tobira</td>\n",
       "      <td>8.39</td>\n",
       "      <td>Action, Drama, Mystery, Sci-Fi, Space</td>\n",
       "      <td>Cowboy Bebop:The Movie</td>\n",
       "      <td>カウボーイビバップ 天国の扉</td>\n",
       "      <td>Movie</td>\n",
       "      <td>1</td>\n",
       "      <td>Sep 1, 2001</td>\n",
       "      <td>Unknown</td>\n",
       "      <td>...</td>\n",
       "      <td>30043.0</td>\n",
       "      <td>49201.0</td>\n",
       "      <td>49505.0</td>\n",
       "      <td>22632.0</td>\n",
       "      <td>5805.0</td>\n",
       "      <td>1877.0</td>\n",
       "      <td>577.0</td>\n",
       "      <td>221.0</td>\n",
       "      <td>109.0</td>\n",
       "      <td>379.0</td>\n",
       "    </tr>\n",
       "    <tr>\n",
       "      <th>2</th>\n",
       "      <td>6</td>\n",
       "      <td>Trigun</td>\n",
       "      <td>8.24</td>\n",
       "      <td>Action, Sci-Fi, Adventure, Comedy, Drama, Shounen</td>\n",
       "      <td>Trigun</td>\n",
       "      <td>トライガン</td>\n",
       "      <td>TV</td>\n",
       "      <td>26</td>\n",
       "      <td>Apr 1, 1998 to Sep 30, 1998</td>\n",
       "      <td>Spring 1998</td>\n",
       "      <td>...</td>\n",
       "      <td>50229.0</td>\n",
       "      <td>75651.0</td>\n",
       "      <td>86142.0</td>\n",
       "      <td>49432.0</td>\n",
       "      <td>15376.0</td>\n",
       "      <td>5838.0</td>\n",
       "      <td>1965.0</td>\n",
       "      <td>664.0</td>\n",
       "      <td>316.0</td>\n",
       "      <td>533.0</td>\n",
       "    </tr>\n",
       "    <tr>\n",
       "      <th>3</th>\n",
       "      <td>7</td>\n",
       "      <td>Witch Hunter Robin</td>\n",
       "      <td>7.27</td>\n",
       "      <td>Action, Mystery, Police, Supernatural, Drama, ...</td>\n",
       "      <td>Witch Hunter Robin</td>\n",
       "      <td>Witch Hunter ROBIN (ウイッチハンターロビン)</td>\n",
       "      <td>TV</td>\n",
       "      <td>26</td>\n",
       "      <td>Jul 2, 2002 to Dec 24, 2002</td>\n",
       "      <td>Summer 2002</td>\n",
       "      <td>...</td>\n",
       "      <td>2182.0</td>\n",
       "      <td>4806.0</td>\n",
       "      <td>10128.0</td>\n",
       "      <td>11618.0</td>\n",
       "      <td>5709.0</td>\n",
       "      <td>2920.0</td>\n",
       "      <td>1083.0</td>\n",
       "      <td>353.0</td>\n",
       "      <td>164.0</td>\n",
       "      <td>131.0</td>\n",
       "    </tr>\n",
       "    <tr>\n",
       "      <th>4</th>\n",
       "      <td>8</td>\n",
       "      <td>Bouken Ou Beet</td>\n",
       "      <td>6.98</td>\n",
       "      <td>Adventure, Fantasy, Shounen, Supernatural</td>\n",
       "      <td>Beet the Vandel Buster</td>\n",
       "      <td>冒険王ビィト</td>\n",
       "      <td>TV</td>\n",
       "      <td>52</td>\n",
       "      <td>Sep 30, 2004 to Sep 29, 2005</td>\n",
       "      <td>Fall 2004</td>\n",
       "      <td>...</td>\n",
       "      <td>312.0</td>\n",
       "      <td>529.0</td>\n",
       "      <td>1242.0</td>\n",
       "      <td>1713.0</td>\n",
       "      <td>1068.0</td>\n",
       "      <td>634.0</td>\n",
       "      <td>265.0</td>\n",
       "      <td>83.0</td>\n",
       "      <td>50.0</td>\n",
       "      <td>27.0</td>\n",
       "    </tr>\n",
       "  </tbody>\n",
       "</table>\n",
       "<p>5 rows × 35 columns</p>\n",
       "</div>"
      ],
      "text/plain": [
       "   MAL_ID                             Name Score  \\\n",
       "0       1                     Cowboy Bebop  8.78   \n",
       "1       5  Cowboy Bebop: Tengoku no Tobira  8.39   \n",
       "2       6                           Trigun  8.24   \n",
       "3       7               Witch Hunter Robin  7.27   \n",
       "4       8                   Bouken Ou Beet  6.98   \n",
       "\n",
       "                                              Genres            English name  \\\n",
       "0    Action, Adventure, Comedy, Drama, Sci-Fi, Space            Cowboy Bebop   \n",
       "1              Action, Drama, Mystery, Sci-Fi, Space  Cowboy Bebop:The Movie   \n",
       "2  Action, Sci-Fi, Adventure, Comedy, Drama, Shounen                  Trigun   \n",
       "3  Action, Mystery, Police, Supernatural, Drama, ...      Witch Hunter Robin   \n",
       "4          Adventure, Fantasy, Shounen, Supernatural  Beet the Vandel Buster   \n",
       "\n",
       "                      Japanese name   Type Episodes  \\\n",
       "0                         カウボーイビバップ     TV       26   \n",
       "1                    カウボーイビバップ 天国の扉  Movie        1   \n",
       "2                             トライガン     TV       26   \n",
       "3  Witch Hunter ROBIN (ウイッチハンターロビン)     TV       26   \n",
       "4                            冒険王ビィト     TV       52   \n",
       "\n",
       "                          Aired    Premiered  ...  Score-10   Score-9  \\\n",
       "0   Apr 3, 1998 to Apr 24, 1999  Spring 1998  ...  229170.0  182126.0   \n",
       "1                   Sep 1, 2001      Unknown  ...   30043.0   49201.0   \n",
       "2   Apr 1, 1998 to Sep 30, 1998  Spring 1998  ...   50229.0   75651.0   \n",
       "3   Jul 2, 2002 to Dec 24, 2002  Summer 2002  ...    2182.0    4806.0   \n",
       "4  Sep 30, 2004 to Sep 29, 2005    Fall 2004  ...     312.0     529.0   \n",
       "\n",
       "    Score-8  Score-7  Score-6 Score-5 Score-4  Score-3  Score-2  Score-1  \n",
       "0  131625.0  62330.0  20688.0  8904.0  3184.0   1357.0    741.0   1580.0  \n",
       "1   49505.0  22632.0   5805.0  1877.0   577.0    221.0    109.0    379.0  \n",
       "2   86142.0  49432.0  15376.0  5838.0  1965.0    664.0    316.0    533.0  \n",
       "3   10128.0  11618.0   5709.0  2920.0  1083.0    353.0    164.0    131.0  \n",
       "4    1242.0   1713.0   1068.0   634.0   265.0     83.0     50.0     27.0  \n",
       "\n",
       "[5 rows x 35 columns]"
      ]
     },
     "execution_count": 3,
     "metadata": {},
     "output_type": "execute_result"
    }
   ],
   "source": [
    "anime_ratings = pd.read_csv(ratings_path)\n",
    "anime_data = pd.read_csv(data_path)\n",
    "anime_data.head()"
   ]
  },
  {
   "cell_type": "code",
   "execution_count": 4,
   "id": "9cd9b5ae",
   "metadata": {
    "execution": {
     "iopub.execute_input": "2023-05-27T08:25:35.691249Z",
     "iopub.status.busy": "2023-05-27T08:25:35.690345Z",
     "iopub.status.idle": "2023-05-27T08:25:35.861353Z",
     "shell.execute_reply": "2023-05-27T08:25:35.860205Z"
    },
    "papermill": {
     "duration": 0.186927,
     "end_time": "2023-05-27T08:25:35.864328",
     "exception": false,
     "start_time": "2023-05-27T08:25:35.677401",
     "status": "completed"
    },
    "tags": []
   },
   "outputs": [
    {
     "name": "stdout",
     "output_type": "stream",
     "text": [
      "<class 'pandas.core.frame.DataFrame'>\n",
      "RangeIndex: 17562 entries, 0 to 17561\n",
      "Data columns (total 35 columns):\n",
      " #   Column         Non-Null Count  Dtype \n",
      "---  ------         --------------  ----- \n",
      " 0   MAL_ID         17562 non-null  int64 \n",
      " 1   Name           17562 non-null  object\n",
      " 2   Score          17562 non-null  object\n",
      " 3   Genres         17562 non-null  object\n",
      " 4   English name   17562 non-null  object\n",
      " 5   Japanese name  17562 non-null  object\n",
      " 6   Type           17562 non-null  object\n",
      " 7   Episodes       17562 non-null  object\n",
      " 8   Aired          17562 non-null  object\n",
      " 9   Premiered      17562 non-null  object\n",
      " 10  Producers      17562 non-null  object\n",
      " 11  Licensors      17562 non-null  object\n",
      " 12  Studios        17562 non-null  object\n",
      " 13  Source         17562 non-null  object\n",
      " 14  Duration       17562 non-null  object\n",
      " 15  Rating         17562 non-null  object\n",
      " 16  Ranked         17562 non-null  object\n",
      " 17  Popularity     17562 non-null  int64 \n",
      " 18  Members        17562 non-null  int64 \n",
      " 19  Favorites      17562 non-null  int64 \n",
      " 20  Watching       17562 non-null  int64 \n",
      " 21  Completed      17562 non-null  int64 \n",
      " 22  On-Hold        17562 non-null  int64 \n",
      " 23  Dropped        17562 non-null  int64 \n",
      " 24  Plan to Watch  17562 non-null  int64 \n",
      " 25  Score-10       17562 non-null  object\n",
      " 26  Score-9        17562 non-null  object\n",
      " 27  Score-8        17562 non-null  object\n",
      " 28  Score-7        17562 non-null  object\n",
      " 29  Score-6        17562 non-null  object\n",
      " 30  Score-5        17562 non-null  object\n",
      " 31  Score-4        17562 non-null  object\n",
      " 32  Score-3        17562 non-null  object\n",
      " 33  Score-2        17562 non-null  object\n",
      " 34  Score-1        17562 non-null  object\n",
      "dtypes: int64(9), object(26)\n",
      "memory usage: 4.7+ MB\n"
     ]
    }
   ],
   "source": [
    "anime_data.info()"
   ]
  },
  {
   "cell_type": "code",
   "execution_count": 5,
   "id": "c0f5917c",
   "metadata": {
    "execution": {
     "iopub.execute_input": "2023-05-27T08:25:35.890808Z",
     "iopub.status.busy": "2023-05-27T08:25:35.890143Z",
     "iopub.status.idle": "2023-05-27T08:25:35.905495Z",
     "shell.execute_reply": "2023-05-27T08:25:35.904362Z"
    },
    "papermill": {
     "duration": 0.031662,
     "end_time": "2023-05-27T08:25:35.907832",
     "exception": false,
     "start_time": "2023-05-27T08:25:35.876170",
     "status": "completed"
    },
    "tags": []
   },
   "outputs": [
    {
     "data": {
      "text/plain": [
       "<bound method DataFrame.info of        anime_id                             Name    Score  \\\n",
       "0             1                     Cowboy Bebop     8.78   \n",
       "1             5  Cowboy Bebop: Tengoku no Tobira     8.39   \n",
       "2             6                           Trigun     8.24   \n",
       "3             7               Witch Hunter Robin     7.27   \n",
       "4             8                   Bouken Ou Beet     6.98   \n",
       "...         ...                              ...      ...   \n",
       "17557     48481  Daomu Biji Zhi Qinling Shen Shu  Unknown   \n",
       "17558     48483                     Mieruko-chan  Unknown   \n",
       "17559     48488  Higurashi no Naku Koro ni Sotsu  Unknown   \n",
       "17560     48491      Yama no Susume: Next Summit  Unknown   \n",
       "17561     48492                    Scarlet Nexus  Unknown   \n",
       "\n",
       "                                                  Genres   Type Episodes  \\\n",
       "0        Action, Adventure, Comedy, Drama, Sci-Fi, Space     TV       26   \n",
       "1                  Action, Drama, Mystery, Sci-Fi, Space  Movie        1   \n",
       "2      Action, Sci-Fi, Adventure, Comedy, Drama, Shounen     TV       26   \n",
       "3      Action, Mystery, Police, Supernatural, Drama, ...     TV       26   \n",
       "4              Adventure, Fantasy, Shounen, Supernatural     TV       52   \n",
       "...                                                  ...    ...      ...   \n",
       "17557                   Adventure, Mystery, Supernatural    ONA  Unknown   \n",
       "17558                       Comedy, Horror, Supernatural     TV  Unknown   \n",
       "17559  Mystery, Dementia, Horror, Psychological, Supe...     TV  Unknown   \n",
       "17560                   Adventure, Slice of Life, Comedy     TV  Unknown   \n",
       "17561                                    Action, Fantasy     TV  Unknown   \n",
       "\n",
       "       Members  \n",
       "0      1251960  \n",
       "1       273145  \n",
       "2       558913  \n",
       "3        94683  \n",
       "4        13224  \n",
       "...        ...  \n",
       "17557      354  \n",
       "17558     7010  \n",
       "17559    11309  \n",
       "17560     1386  \n",
       "17561      310  \n",
       "\n",
       "[17562 rows x 7 columns]>"
      ]
     },
     "execution_count": 5,
     "metadata": {},
     "output_type": "execute_result"
    }
   ],
   "source": [
    "anime_data = anime_data[['MAL_ID', 'Name', 'Score', 'Genres', 'Type', 'Episodes', 'Members']]\n",
    "anime_data.rename(columns={'MAL_ID':\"anime_id\"}, inplace=True)\n",
    "anime_data.info"
   ]
  },
  {
   "cell_type": "code",
   "execution_count": 6,
   "id": "14566f93",
   "metadata": {
    "execution": {
     "iopub.execute_input": "2023-05-27T08:25:35.933634Z",
     "iopub.status.busy": "2023-05-27T08:25:35.933232Z",
     "iopub.status.idle": "2023-05-27T08:25:44.424112Z",
     "shell.execute_reply": "2023-05-27T08:25:44.422811Z"
    },
    "papermill": {
     "duration": 8.506743,
     "end_time": "2023-05-27T08:25:44.426450",
     "exception": false,
     "start_time": "2023-05-27T08:25:35.919707",
     "status": "completed"
    },
    "tags": []
   },
   "outputs": [
    {
     "name": "stdout",
     "output_type": "stream",
     "text": [
      "<class 'pandas.core.frame.DataFrame'>\n",
      "Int64Index: 21844949 entries, 80729188 to 75370393\n",
      "Data columns (total 5 columns):\n",
      " #   Column            Dtype\n",
      "---  ------            -----\n",
      " 0   user_id           int64\n",
      " 1   anime_id          int64\n",
      " 2   rating            int64\n",
      " 3   watching_status   int64\n",
      " 4   watched_episodes  int64\n",
      "dtypes: int64(5)\n",
      "memory usage: 1000.0 MB\n"
     ]
    }
   ],
   "source": [
    "anime_ratings = anime_ratings.sample(frac=0.2)\n",
    "anime_ratings.info()"
   ]
  },
  {
   "cell_type": "code",
   "execution_count": 7,
   "id": "5dcced53",
   "metadata": {
    "execution": {
     "iopub.execute_input": "2023-05-27T08:25:44.453105Z",
     "iopub.status.busy": "2023-05-27T08:25:44.452695Z",
     "iopub.status.idle": "2023-05-27T08:25:44.594910Z",
     "shell.execute_reply": "2023-05-27T08:25:44.593786Z"
    },
    "papermill": {
     "duration": 0.159179,
     "end_time": "2023-05-27T08:25:44.597562",
     "exception": false,
     "start_time": "2023-05-27T08:25:44.438383",
     "status": "completed"
    },
    "tags": []
   },
   "outputs": [
    {
     "data": {
      "text/plain": [
       "17552"
      ]
     },
     "execution_count": 7,
     "metadata": {},
     "output_type": "execute_result"
    }
   ],
   "source": [
    "anime_ratings.anime_id.nunique()"
   ]
  },
  {
   "cell_type": "code",
   "execution_count": 8,
   "id": "afc832bd",
   "metadata": {
    "execution": {
     "iopub.execute_input": "2023-05-27T08:25:44.623884Z",
     "iopub.status.busy": "2023-05-27T08:25:44.623460Z",
     "iopub.status.idle": "2023-05-27T08:25:55.163497Z",
     "shell.execute_reply": "2023-05-27T08:25:55.161811Z"
    },
    "papermill": {
     "duration": 10.556326,
     "end_time": "2023-05-27T08:25:55.165991",
     "exception": false,
     "start_time": "2023-05-27T08:25:44.609665",
     "status": "completed"
    },
    "tags": []
   },
   "outputs": [
    {
     "name": "stdout",
     "output_type": "stream",
     "text": [
      "<class 'pandas.core.frame.DataFrame'>\n",
      "Int64Index: 21844949 entries, 0 to 21844948\n",
      "Data columns (total 11 columns):\n",
      " #   Column            Dtype \n",
      "---  ------            ----- \n",
      " 0   anime_id          int64 \n",
      " 1   anime_title       object\n",
      " 2   total_rating      object\n",
      " 3   Genres            object\n",
      " 4   Type              object\n",
      " 5   Episodes          object\n",
      " 6   Members           int64 \n",
      " 7   user_id           int64 \n",
      " 8   user_rating       int64 \n",
      " 9   watching_status   int64 \n",
      " 10  watched_episodes  int64 \n",
      "dtypes: int64(6), object(5)\n",
      "memory usage: 2.0+ GB\n"
     ]
    }
   ],
   "source": [
    "anime_complete = pd.merge(anime_data, anime_ratings, on='anime_id')\n",
    "anime_complete = anime_complete.rename(columns={'rating': 'user_rating', 'Score': 'total_rating', \"Name\":'anime_title'})\n",
    "anime_complete.info()"
   ]
  },
  {
   "cell_type": "code",
   "execution_count": 9,
   "id": "2291dc87",
   "metadata": {
    "execution": {
     "iopub.execute_input": "2023-05-27T08:25:55.193000Z",
     "iopub.status.busy": "2023-05-27T08:25:55.192131Z",
     "iopub.status.idle": "2023-05-27T08:26:28.717612Z",
     "shell.execute_reply": "2023-05-27T08:26:28.716472Z"
    },
    "papermill": {
     "duration": 33.553793,
     "end_time": "2023-05-27T08:26:28.732108",
     "exception": false,
     "start_time": "2023-05-27T08:25:55.178315",
     "status": "completed"
    },
    "tags": []
   },
   "outputs": [
    {
     "data": {
      "text/plain": [
       "anime_id            0\n",
       "anime_title         0\n",
       "total_rating        0\n",
       "Genres              0\n",
       "Type                0\n",
       "Episodes            0\n",
       "Members             0\n",
       "user_id             0\n",
       "user_rating         0\n",
       "watching_status     0\n",
       "watched_episodes    0\n",
       "dtype: int64"
      ]
     },
     "execution_count": 9,
     "metadata": {},
     "output_type": "execute_result"
    }
   ],
   "source": [
    "anime_complete.isna().sum()"
   ]
  },
  {
   "cell_type": "markdown",
   "id": "404c4e09",
   "metadata": {
    "papermill": {
     "duration": 0.012102,
     "end_time": "2023-05-27T08:26:28.757061",
     "exception": false,
     "start_time": "2023-05-27T08:26:28.744959",
     "status": "completed"
    },
    "tags": []
   },
   "source": [
    "# Exploratory Data Analysis"
   ]
  },
  {
   "cell_type": "markdown",
   "id": "e4f45360",
   "metadata": {
    "papermill": {
     "duration": 0.012015,
     "end_time": "2023-05-27T08:26:28.781434",
     "exception": false,
     "start_time": "2023-05-27T08:26:28.769419",
     "status": "completed"
    },
    "tags": []
   },
   "source": [
    "This visualization allows us to easily identify the top 10 anime titles based on the frequency of user ratings. The height of each bar represents the user rating count for the corresponding anime title."
   ]
  },
  {
   "cell_type": "code",
   "execution_count": 10,
   "id": "3509948b",
   "metadata": {
    "_kg_hide-input": false,
    "execution": {
     "iopub.execute_input": "2023-05-27T08:26:28.808630Z",
     "iopub.status.busy": "2023-05-27T08:26:28.808246Z",
     "iopub.status.idle": "2023-05-27T08:26:31.878058Z",
     "shell.execute_reply": "2023-05-27T08:26:31.877028Z"
    },
    "papermill": {
     "duration": 3.086928,
     "end_time": "2023-05-27T08:26:31.880579",
     "exception": false,
     "start_time": "2023-05-27T08:26:28.793651",
     "status": "completed"
    },
    "tags": []
   },
   "outputs": [
    {
     "data": {
      "image/png": "[encoded data removed]",
      "text/plain": [
       "<Figure size 640x480 with 1 Axes>"
      ]
     },
     "metadata": {},
     "output_type": "display_data"
    }
   ],
   "source": [
    "top_10_anime = anime_complete['anime_title'].value_counts().nlargest(10)\n",
    "palette = sns.color_palette('rocket', len(top_10_anime))\n",
    "\n",
    "plt.bar(top_10_anime.index, top_10_anime.values, color=palette)\n",
    "\n",
    "plt.title(\"Top 10 Anime by User Rating Count\")\n",
    "plt.xlabel(\"Anime Name\")\n",
    "plt.ylabel(\"User Rating Count\")\n",
    "\n",
    "plt.xticks(rotation=40, ha=\"right\")\n",
    "\n",
    "plt.show()"
   ]
  },
  {
   "cell_type": "markdown",
   "id": "c13fb888",
   "metadata": {
    "papermill": {
     "duration": 0.014021,
     "end_time": "2023-05-27T08:26:31.908233",
     "exception": false,
     "start_time": "2023-05-27T08:26:31.894212",
     "status": "completed"
    },
    "tags": []
   },
   "source": [
    "This visualization allows us to easily identify the top 10 anime titles with the highest number of members. The height of each bar represents the corresponding number of members for each anime title"
   ]
  },
  {
   "cell_type": "code",
   "execution_count": 11,
   "id": "bd3b8c7e",
   "metadata": {
    "execution": {
     "iopub.execute_input": "2023-05-27T08:26:31.937761Z",
     "iopub.status.busy": "2023-05-27T08:26:31.937295Z",
     "iopub.status.idle": "2023-05-27T08:26:36.848951Z",
     "shell.execute_reply": "2023-05-27T08:26:36.847831Z"
    },
    "papermill": {
     "duration": 4.929513,
     "end_time": "2023-05-27T08:26:36.851630",
     "exception": false,
     "start_time": "2023-05-27T08:26:31.922117",
     "status": "completed"
    },
    "tags": []
   },
   "outputs": [
    {
     "data": {
      "image/png": "[encoded data removed]",
      "text/plain": [
       "<Figure size 640x480 with 1 Axes>"
      ]
     },
     "metadata": {},
     "output_type": "display_data"
    }
   ],
   "source": [
    "top_10_anime = anime_complete.sort_values(by=\"Members\", ascending=False).drop_duplicates(subset='anime_title').head(10)\n",
    "\n",
    "palette = sns.color_palette('rocket', len(top_10_anime))\n",
    "\n",
    "plt.bar(top_10_anime['anime_title'], top_10_anime['Members'], color=palette)\n",
    "\n",
    "plt.title(\"Top 10 Anime by Number of Members\")\n",
    "plt.xlabel(\"Anime Title\")\n",
    "plt.ylabel(\"Number of Members\")\n",
    "\n",
    "plt.xticks(rotation=40, ha='right')\n",
    "\n",
    "plt.show()"
   ]
  },
  {
   "cell_type": "code",
   "execution_count": 12,
   "id": "ffe8e96d",
   "metadata": {
    "execution": {
     "iopub.execute_input": "2023-05-27T08:26:36.882920Z",
     "iopub.status.busy": "2023-05-27T08:26:36.881892Z",
     "iopub.status.idle": "2023-05-27T08:26:38.846708Z",
     "shell.execute_reply": "2023-05-27T08:26:38.845579Z"
    },
    "papermill": {
     "duration": 1.983306,
     "end_time": "2023-05-27T08:26:38.849549",
     "exception": false,
     "start_time": "2023-05-27T08:26:36.866243",
     "status": "completed"
    },
    "tags": []
   },
   "outputs": [
    {
     "data": {
      "text/html": [
       "<div>\n",
       "<style scoped>\n",
       "    .dataframe tbody tr th:only-of-type {\n",
       "        vertical-align: middle;\n",
       "    }\n",
       "\n",
       "    .dataframe tbody tr th {\n",
       "        vertical-align: top;\n",
       "    }\n",
       "\n",
       "    .dataframe thead th {\n",
       "        text-align: right;\n",
       "    }\n",
       "</style>\n",
       "<table border=\"1\" class=\"dataframe\">\n",
       "  <thead>\n",
       "    <tr style=\"text-align: right;\">\n",
       "      <th></th>\n",
       "      <th>anime_id</th>\n",
       "      <th>anime_title</th>\n",
       "      <th>total_rating</th>\n",
       "      <th>Genres</th>\n",
       "      <th>Type</th>\n",
       "      <th>Episodes</th>\n",
       "      <th>Members</th>\n",
       "      <th>user_id</th>\n",
       "      <th>user_rating</th>\n",
       "      <th>watching_status</th>\n",
       "      <th>watched_episodes</th>\n",
       "    </tr>\n",
       "  </thead>\n",
       "  <tbody>\n",
       "    <tr>\n",
       "      <th>0</th>\n",
       "      <td>1</td>\n",
       "      <td>Cowboy Bebop</td>\n",
       "      <td>8.78</td>\n",
       "      <td>Action, Adventure, Comedy, Drama, Sci-Fi, Space</td>\n",
       "      <td>TV</td>\n",
       "      <td>26</td>\n",
       "      <td>1251960</td>\n",
       "      <td>96430</td>\n",
       "      <td>8</td>\n",
       "      <td>2</td>\n",
       "      <td>26</td>\n",
       "    </tr>\n",
       "    <tr>\n",
       "      <th>1</th>\n",
       "      <td>1</td>\n",
       "      <td>Cowboy Bebop</td>\n",
       "      <td>8.78</td>\n",
       "      <td>Action, Adventure, Comedy, Drama, Sci-Fi, Space</td>\n",
       "      <td>TV</td>\n",
       "      <td>26</td>\n",
       "      <td>1251960</td>\n",
       "      <td>81097</td>\n",
       "      <td>10</td>\n",
       "      <td>2</td>\n",
       "      <td>26</td>\n",
       "    </tr>\n",
       "    <tr>\n",
       "      <th>2</th>\n",
       "      <td>1</td>\n",
       "      <td>Cowboy Bebop</td>\n",
       "      <td>8.78</td>\n",
       "      <td>Action, Adventure, Comedy, Drama, Sci-Fi, Space</td>\n",
       "      <td>TV</td>\n",
       "      <td>26</td>\n",
       "      <td>1251960</td>\n",
       "      <td>56887</td>\n",
       "      <td>10</td>\n",
       "      <td>2</td>\n",
       "      <td>26</td>\n",
       "    </tr>\n",
       "    <tr>\n",
       "      <th>3</th>\n",
       "      <td>1</td>\n",
       "      <td>Cowboy Bebop</td>\n",
       "      <td>8.78</td>\n",
       "      <td>Action, Adventure, Comedy, Drama, Sci-Fi, Space</td>\n",
       "      <td>TV</td>\n",
       "      <td>26</td>\n",
       "      <td>1251960</td>\n",
       "      <td>64965</td>\n",
       "      <td>0</td>\n",
       "      <td>6</td>\n",
       "      <td>0</td>\n",
       "    </tr>\n",
       "    <tr>\n",
       "      <th>4</th>\n",
       "      <td>1</td>\n",
       "      <td>Cowboy Bebop</td>\n",
       "      <td>8.78</td>\n",
       "      <td>Action, Adventure, Comedy, Drama, Sci-Fi, Space</td>\n",
       "      <td>TV</td>\n",
       "      <td>26</td>\n",
       "      <td>1251960</td>\n",
       "      <td>303015</td>\n",
       "      <td>8</td>\n",
       "      <td>2</td>\n",
       "      <td>26</td>\n",
       "    </tr>\n",
       "  </tbody>\n",
       "</table>\n",
       "</div>"
      ],
      "text/plain": [
       "   anime_id   anime_title total_rating  \\\n",
       "0         1  Cowboy Bebop         8.78   \n",
       "1         1  Cowboy Bebop         8.78   \n",
       "2         1  Cowboy Bebop         8.78   \n",
       "3         1  Cowboy Bebop         8.78   \n",
       "4         1  Cowboy Bebop         8.78   \n",
       "\n",
       "                                            Genres Type Episodes  Members  \\\n",
       "0  Action, Adventure, Comedy, Drama, Sci-Fi, Space   TV       26  1251960   \n",
       "1  Action, Adventure, Comedy, Drama, Sci-Fi, Space   TV       26  1251960   \n",
       "2  Action, Adventure, Comedy, Drama, Sci-Fi, Space   TV       26  1251960   \n",
       "3  Action, Adventure, Comedy, Drama, Sci-Fi, Space   TV       26  1251960   \n",
       "4  Action, Adventure, Comedy, Drama, Sci-Fi, Space   TV       26  1251960   \n",
       "\n",
       "   user_id  user_rating  watching_status  watched_episodes  \n",
       "0    96430            8                2                26  \n",
       "1    81097           10                2                26  \n",
       "2    56887           10                2                26  \n",
       "3    64965            0                6                 0  \n",
       "4   303015            8                2                26  "
      ]
     },
     "execution_count": 12,
     "metadata": {},
     "output_type": "execute_result"
    }
   ],
   "source": [
    "anime_features = anime_complete.copy()\n",
    "anime_features.head()"
   ]
  },
  {
   "cell_type": "code",
   "execution_count": 13,
   "id": "d6c8e627",
   "metadata": {
    "execution": {
     "iopub.execute_input": "2023-05-27T08:26:38.881954Z",
     "iopub.status.busy": "2023-05-27T08:26:38.881514Z",
     "iopub.status.idle": "2023-05-27T08:26:40.328588Z",
     "shell.execute_reply": "2023-05-27T08:26:40.327543Z"
    },
    "papermill": {
     "duration": 1.46606,
     "end_time": "2023-05-27T08:26:40.331110",
     "exception": false,
     "start_time": "2023-05-27T08:26:38.865050",
     "status": "completed"
    },
    "tags": []
   },
   "outputs": [
    {
     "data": {
      "text/plain": [
       "count    318700.000000\n",
       "mean         68.543925\n",
       "std          85.762382\n",
       "min           1.000000\n",
       "25%          20.000000\n",
       "50%          46.000000\n",
       "75%          89.000000\n",
       "max        3592.000000\n",
       "Name: user_id, dtype: float64"
      ]
     },
     "execution_count": 13,
     "metadata": {},
     "output_type": "execute_result"
    }
   ],
   "source": [
    "user_id_counts = anime_features['user_id'].value_counts()\n",
    "user_id_counts.describe()"
   ]
  },
  {
   "cell_type": "markdown",
   "id": "5b4e2ea2",
   "metadata": {
    "papermill": {
     "duration": 0.01445,
     "end_time": "2023-05-27T08:26:40.360711",
     "exception": false,
     "start_time": "2023-05-27T08:26:40.346261",
     "status": "completed"
    },
    "tags": []
   },
   "source": [
    "*In order to consider only the reviewers of \"trusted\" members, the ones we are considering trustworthy are those who have reviewed a certain number (100 in our case) of animes, the rest of the reviewers may be dropped.*"
   ]
  },
  {
   "cell_type": "code",
   "execution_count": 14,
   "id": "a802cd8d",
   "metadata": {
    "execution": {
     "iopub.execute_input": "2023-05-27T08:26:40.392231Z",
     "iopub.status.busy": "2023-05-27T08:26:40.391790Z",
     "iopub.status.idle": "2023-05-27T08:26:42.302716Z",
     "shell.execute_reply": "2023-05-27T08:26:42.301432Z"
    },
    "papermill": {
     "duration": 1.930286,
     "end_time": "2023-05-27T08:26:42.305807",
     "exception": false,
     "start_time": "2023-05-27T08:26:40.375521",
     "status": "completed"
    },
    "tags": []
   },
   "outputs": [],
   "source": [
    "anime_features = anime_features[anime_features['user_id'].isin(user_id_counts[user_id_counts >= 100].index)]"
   ]
  },
  {
   "cell_type": "markdown",
   "id": "09fa5031",
   "metadata": {
    "papermill": {
     "duration": 0.016553,
     "end_time": "2023-05-27T08:26:42.339000",
     "exception": false,
     "start_time": "2023-05-27T08:26:42.322447",
     "status": "completed"
    },
    "tags": []
   },
   "source": [
    "Since the title text was not found to be clean we a function to clean the title names using regex:"
   ]
  },
  {
   "cell_type": "code",
   "execution_count": 15,
   "id": "422318b5",
   "metadata": {
    "execution": {
     "iopub.execute_input": "2023-05-27T08:26:42.372826Z",
     "iopub.status.busy": "2023-05-27T08:26:42.372418Z",
     "iopub.status.idle": "2023-05-27T08:26:42.379147Z",
     "shell.execute_reply": "2023-05-27T08:26:42.377919Z"
    },
    "papermill": {
     "duration": 0.026407,
     "end_time": "2023-05-27T08:26:42.381742",
     "exception": false,
     "start_time": "2023-05-27T08:26:42.355335",
     "status": "completed"
    },
    "tags": []
   },
   "outputs": [],
   "source": [
    "def text_cleaning(text):\n",
    "    text = re.sub(r'&quot;', '', text)\n",
    "    text = re.sub(r'.hack//', '', text)\n",
    "    text = re.sub(r'&#039;', '', text)\n",
    "    text = re.sub(r'A&#039;s', '', text)\n",
    "    text = re.sub(r'I&#039;', 'I\\'', text)\n",
    "    text = re.sub(r'&amp;', 'and', text)\n",
    "    return text"
   ]
  },
  {
   "cell_type": "code",
   "execution_count": 16,
   "id": "da6595ee",
   "metadata": {
    "execution": {
     "iopub.execute_input": "2023-05-27T08:26:42.416013Z",
     "iopub.status.busy": "2023-05-27T08:26:42.414978Z",
     "iopub.status.idle": "2023-05-27T08:29:27.408936Z",
     "shell.execute_reply": "2023-05-27T08:29:27.407441Z"
    },
    "papermill": {
     "duration": 165.015193,
     "end_time": "2023-05-27T08:29:27.412136",
     "exception": false,
     "start_time": "2023-05-27T08:26:42.396943",
     "status": "completed"
    },
    "tags": []
   },
   "outputs": [],
   "source": [
    "anime_features['anime_title'] = anime_features['anime_title'].apply(text_cleaning)\n",
    "anime_pivot = anime_features.pivot_table(index='anime_title', columns='user_id', values='user_rating').fillna(0)"
   ]
  },
  {
   "cell_type": "markdown",
   "id": "6aefa3ff",
   "metadata": {
    "papermill": {
     "duration": 0.015482,
     "end_time": "2023-05-27T08:29:27.443416",
     "exception": false,
     "start_time": "2023-05-27T08:29:27.427934",
     "status": "completed"
    },
    "tags": []
   },
   "source": [
    "# Collaborative Filtering\n",
    "Collaborative filtering is a technique used in recommender systems to predict user preferences or make recommendations by identifying similarities and patterns among users' preferences. It assumes that users with similar preferences in the past are likely to have similar preferences in the future. Collaborative filtering can be performed using user-based or item-based approaches, where user-based focuses on finding similar users to make recommendations, while item-based focuses on finding similar items. By leveraging these similarities, collaborative filtering helps users discover new items or content based on the preferences and behaviors of similar users, improving the overall user experience and engagement."
   ]
  },
  {
   "cell_type": "markdown",
   "id": "be4019f7",
   "metadata": {
    "papermill": {
     "duration": 0.014876,
     "end_time": "2023-05-27T08:29:27.474378",
     "exception": false,
     "start_time": "2023-05-27T08:29:27.459502",
     "status": "completed"
    },
    "tags": []
   },
   "source": [
    "## Cosine Similarity using KNN"
   ]
  },
  {
   "cell_type": "markdown",
   "id": "aec0f872",
   "metadata": {
    "papermill": {
     "duration": 0.014944,
     "end_time": "2023-05-27T08:29:27.504610",
     "exception": false,
     "start_time": "2023-05-27T08:29:27.489666",
     "status": "completed"
    },
    "tags": []
   },
   "source": [
    "Cosine similarity is a measure of similarity between two non-zero vectors of an inner product space. In the context of recommendation systems, cosine similarity is often used to determine how similar two items or users are based on their feature vectors.\n"
   ]
  },
  {
   "cell_type": "code",
   "execution_count": 17,
   "id": "e476577d",
   "metadata": {
    "execution": {
     "iopub.execute_input": "2023-05-27T08:29:27.536944Z",
     "iopub.status.busy": "2023-05-27T08:29:27.536462Z",
     "iopub.status.idle": "2023-05-27T08:29:27.710730Z",
     "shell.execute_reply": "2023-05-27T08:29:27.709527Z"
    },
    "papermill": {
     "duration": 0.194026,
     "end_time": "2023-05-27T08:29:27.713716",
     "exception": false,
     "start_time": "2023-05-27T08:29:27.519690",
     "status": "completed"
    },
    "tags": []
   },
   "outputs": [],
   "source": [
    "anime_data[\"Name\"] = anime_data[\"Name\"].apply(text_cleaning)"
   ]
  },
  {
   "cell_type": "markdown",
   "id": "cd17615c",
   "metadata": {
    "papermill": {
     "duration": 0.015038,
     "end_time": "2023-05-27T08:29:27.744349",
     "exception": false,
     "start_time": "2023-05-27T08:29:27.729311",
     "status": "completed"
    },
    "tags": []
   },
   "source": [
    "Sparse matrix was created to optimize the memory usage and computational efficiency of the model. The user-anime matrix can be very large and the majority of the entries are likely to be zeros, which means that they don't contribute to the similarity computations. By converting the matrix to a sparse format, we can represent it using less memory, and perform computations only on the non-zero entries. This can significantly speed up the model training and recommendation generation processes."
   ]
  },
  {
   "cell_type": "code",
   "execution_count": 18,
   "id": "d3bc6a27",
   "metadata": {
    "execution": {
     "iopub.execute_input": "2023-05-27T08:29:27.777237Z",
     "iopub.status.busy": "2023-05-27T08:29:27.776288Z",
     "iopub.status.idle": "2023-05-27T08:30:02.231386Z",
     "shell.execute_reply": "2023-05-27T08:30:02.230234Z"
    },
    "papermill": {
     "duration": 34.489421,
     "end_time": "2023-05-27T08:30:02.248822",
     "exception": false,
     "start_time": "2023-05-27T08:29:27.759401",
     "status": "completed"
    },
    "tags": []
   },
   "outputs": [
    {
     "data": {
      "text/html": [
       "<style>#sk-container-id-1 {color: black;background-color: white;}#sk-container-id-1 pre{padding: 0;}#sk-container-id-1 div.sk-toggleable {background-color: white;}#sk-container-id-1 label.sk-toggleable__label {cursor: pointer;display: block;width: 100%;margin-bottom: 0;padding: 0.3em;box-sizing: border-box;text-align: center;}#sk-container-id-1 label.sk-toggleable__label-arrow:before {content: \"▸\";float: left;margin-right: 0.25em;color: #696969;}#sk-container-id-1 label.sk-toggleable__label-arrow:hover:before {color: black;}#sk-container-id-1 div.sk-estimator:hover label.sk-toggleable__label-arrow:before {color: black;}#sk-container-id-1 div.sk-toggleable__content {max-height: 0;max-width: 0;overflow: hidden;text-align: left;background-color: #f0f8ff;}#sk-container-id-1 div.sk-toggleable__content pre {margin: 0.2em;color: black;border-radius: 0.25em;background-color: #f0f8ff;}#sk-container-id-1 input.sk-toggleable__control:checked~div.sk-toggleable__content {max-height: 200px;max-width: 100%;overflow: auto;}#sk-container-id-1 input.sk-toggleable__control:checked~label.sk-toggleable__label-arrow:before {content: \"▾\";}#sk-container-id-1 div.sk-estimator input.sk-toggleable__control:checked~label.sk-toggleable__label {background-color: #d4ebff;}#sk-container-id-1 div.sk-label input.sk-toggleable__control:checked~label.sk-toggleable__label {background-color: #d4ebff;}#sk-container-id-1 input.sk-hidden--visually {border: 0;clip: rect(1px 1px 1px 1px);clip: rect(1px, 1px, 1px, 1px);height: 1px;margin: -1px;overflow: hidden;padding: 0;position: absolute;width: 1px;}#sk-container-id-1 div.sk-estimator {font-family: monospace;background-color: #f0f8ff;border: 1px dotted black;border-radius: 0.25em;box-sizing: border-box;margin-bottom: 0.5em;}#sk-container-id-1 div.sk-estimator:hover {background-color: #d4ebff;}#sk-container-id-1 div.sk-parallel-item::after {content: \"\";width: 100%;border-bottom: 1px solid gray;flex-grow: 1;}#sk-container-id-1 div.sk-label:hover label.sk-toggleable__label {background-color: #d4ebff;}#sk-container-id-1 div.sk-serial::before {content: \"\";position: absolute;border-left: 1px solid gray;box-sizing: border-box;top: 0;bottom: 0;left: 50%;z-index: 0;}#sk-container-id-1 div.sk-serial {display: flex;flex-direction: column;align-items: center;background-color: white;padding-right: 0.2em;padding-left: 0.2em;position: relative;}#sk-container-id-1 div.sk-item {position: relative;z-index: 1;}#sk-container-id-1 div.sk-parallel {display: flex;align-items: stretch;justify-content: center;background-color: white;position: relative;}#sk-container-id-1 div.sk-item::before, #sk-container-id-1 div.sk-parallel-item::before {content: \"\";position: absolute;border-left: 1px solid gray;box-sizing: border-box;top: 0;bottom: 0;left: 50%;z-index: -1;}#sk-container-id-1 div.sk-parallel-item {display: flex;flex-direction: column;z-index: 1;position: relative;background-color: white;}#sk-container-id-1 div.sk-parallel-item:first-child::after {align-self: flex-end;width: 50%;}#sk-container-id-1 div.sk-parallel-item:last-child::after {align-self: flex-start;width: 50%;}#sk-container-id-1 div.sk-parallel-item:only-child::after {width: 0;}#sk-container-id-1 div.sk-dashed-wrapped {border: 1px dashed gray;margin: 0 0.4em 0.5em 0.4em;box-sizing: border-box;padding-bottom: 0.4em;background-color: white;}#sk-container-id-1 div.sk-label label {font-family: monospace;font-weight: bold;display: inline-block;line-height: 1.2em;}#sk-container-id-1 div.sk-label-container {text-align: center;}#sk-container-id-1 div.sk-container {/* jupyter's `normalize.less` sets `[hidden] { display: none; }` but bootstrap.min.css set `[hidden] { display: none !important; }` so we also need the `!important` here to be able to override the default hidden behavior on the sphinx rendered scikit-learn.org. See: https://github.com/scikit-learn/scikit-learn/issues/21755 */display: inline-block !important;position: relative;}#sk-container-id-1 div.sk-text-repr-fallback {display: none;}</style><div id=\"sk-container-id-1\" class=\"sk-top-container\"><div class=\"sk-text-repr-fallback\"><pre>NearestNeighbors(algorithm=&#x27;brute&#x27;, metric=&#x27;cosine&#x27;)</pre><b>In a Jupyter environment, please rerun this cell to show the HTML representation or trust the notebook. <br />On GitHub, the HTML representation is unable to render, please try loading this page with nbviewer.org.</b></div><div class=\"sk-container\" hidden><div class=\"sk-item\"><div class=\"sk-estimator sk-toggleable\"><input class=\"sk-toggleable__control sk-hidden--visually\" id=\"sk-estimator-id-1\" type=\"checkbox\" checked><label for=\"sk-estimator-id-1\" class=\"sk-toggleable__label sk-toggleable__label-arrow\">NearestNeighbors</label><div class=\"sk-toggleable__content\"><pre>NearestNeighbors(algorithm=&#x27;brute&#x27;, metric=&#x27;cosine&#x27;)</pre></div></div></div></div></div>"
      ],
      "text/plain": [
       "NearestNeighbors(algorithm='brute', metric='cosine')"
      ]
     },
     "execution_count": 18,
     "metadata": {},
     "output_type": "execute_result"
    }
   ],
   "source": [
    "from scipy.sparse import csr_matrix\n",
    "from sklearn.neighbors import NearestNeighbors\n",
    "\n",
    "anime_matrix = csr_matrix(anime_pivot.values)\n",
    "\n",
    "model_knn = NearestNeighbors(metric='cosine', algorithm='brute')\n",
    "\n",
    "model_knn.fit(anime_matrix)"
   ]
  },
  {
   "cell_type": "code",
   "execution_count": 19,
   "id": "64f17ff2",
   "metadata": {
    "execution": {
     "iopub.execute_input": "2023-05-27T08:30:02.281593Z",
     "iopub.status.busy": "2023-05-27T08:30:02.281173Z",
     "iopub.status.idle": "2023-05-27T08:30:02.385276Z",
     "shell.execute_reply": "2023-05-27T08:30:02.383835Z"
    },
    "papermill": {
     "duration": 0.123872,
     "end_time": "2023-05-27T08:30:02.387785",
     "exception": false,
     "start_time": "2023-05-27T08:30:02.263913",
     "status": "completed"
    },
    "tags": []
   },
   "outputs": [
    {
     "name": "stdout",
     "output_type": "stream",
     "text": [
      "Randomly selected anime title: Zero Seiki Movie 1: Emeraldas \n",
      "\n",
      "Recommendations for Zero Seiki Movie 1: Emeraldas:\n",
      "\n",
      "1: Pan de Peace!, with distance of 1.0\n",
      "2: Palladium: siroPd Motion Collective, with distance of 1.0\n",
      "3: Pakomane: Watashi, Kyou kara Meimon Yakyuubu no Seishorigakari ni Narimasu... The Animation, with distance of 1.0\n",
      "4: Pan to Boku no Momo-chan, with distance of 1.0\n",
      "5: Paizuri Cheerleader vs. Sakunyuu Ouendan!, with distance of 1.0\n"
     ]
    }
   ],
   "source": [
    "anime_title = np.random.choice(anime_pivot.index)\n",
    "\n",
    "print(f\"Randomly selected anime title: {anime_title} \\n\")\n",
    "\n",
    "query_index = anime_pivot.index.get_loc(anime_title)\n",
    "\n",
    "distances, indices = model_knn.kneighbors(anime_pivot.iloc[query_index, :].values.reshape(1, -1), n_neighbors=6)\n",
    "\n",
    "print(f\"Recommendations for {anime_pivot.index[query_index]}:\\n\")\n",
    "\n",
    "for i, (distance, index) in enumerate(zip(distances.flatten()[1:], indices.flatten()[1:])):\n",
    "    print(f\"{i+1}: {anime_pivot.index[index]}, with distance of {distance}\")\n",
    "    "
   ]
  },
  {
   "cell_type": "code",
   "execution_count": 20,
   "id": "e201c81d",
   "metadata": {
    "execution": {
     "iopub.execute_input": "2023-05-27T08:30:02.420275Z",
     "iopub.status.busy": "2023-05-27T08:30:02.419630Z",
     "iopub.status.idle": "2023-05-27T08:30:02.426810Z",
     "shell.execute_reply": "2023-05-27T08:30:02.426009Z"
    },
    "papermill": {
     "duration": 0.025958,
     "end_time": "2023-05-27T08:30:02.428924",
     "exception": false,
     "start_time": "2023-05-27T08:30:02.402966",
     "status": "completed"
    },
    "tags": []
   },
   "outputs": [],
   "source": [
    "def give_rec_knn(anime_title = np.random.choice(anime_pivot.index), anime_pivot=anime_pivot):\n",
    "    \n",
    "    print(f\"Selected anime title: {anime_title} \\n\")\n",
    "\n",
    "    query_index = anime_pivot.index.get_loc(anime_title)\n",
    "\n",
    "    distances, indices = model_knn.kneighbors(anime_pivot.iloc[query_index, :].values.reshape(1, -1), n_neighbors=6)\n",
    "\n",
    "    print(f\"Recommendations for {anime_pivot.index[query_index]}:\\n\")\n",
    "\n",
    "    for i, (distance, index) in enumerate(zip(distances.flatten()[1:], indices.flatten()[1:])):\n",
    "        print(f\"{i+1}: {anime_pivot.index[index]}, with distance of {distance}\")"
   ]
  },
  {
   "cell_type": "code",
   "execution_count": 21,
   "id": "96b2e261",
   "metadata": {
    "execution": {
     "iopub.execute_input": "2023-05-27T08:30:02.461987Z",
     "iopub.status.busy": "2023-05-27T08:30:02.461583Z",
     "iopub.status.idle": "2023-05-27T08:30:02.619464Z",
     "shell.execute_reply": "2023-05-27T08:30:02.617816Z"
    },
    "papermill": {
     "duration": 0.177812,
     "end_time": "2023-05-27T08:30:02.621978",
     "exception": false,
     "start_time": "2023-05-27T08:30:02.444166",
     "status": "completed"
    },
    "tags": []
   },
   "outputs": [
    {
     "name": "stdout",
     "output_type": "stream",
     "text": [
      "Selected anime title: Steins;Gate \n",
      "\n",
      "Recommendations for Steins;Gate:\n",
      "\n",
      "1: Code Geass: Hangyaku no Lelouch, with distance of 0.8358692164877071\n",
      "2: Fullmetal Alchemist: Brotherhood, with distance of 0.839615046888026\n",
      "3: Shingeki no Kyojin, with distance of 0.8398457763538509\n",
      "4: Angel Beats!, with distance of 0.8402467282822863\n",
      "5: Death Note, with distance of 0.840734778589951\n",
      "Selected anime title: Memories: Younenki no Joukei \n",
      "\n",
      "Recommendations for Memories: Younenki no Joukei:\n",
      "\n",
      "1: Greek Roman Sinhwa: Olympus Guardian (Movie), with distance of 0.41492603378536586\n",
      "2: Kazaguruma, with distance of 0.41621282275255667\n",
      "3: Yasashii Kaze, with distance of 0.4279889741873689\n",
      "4: Oniichan ni Natchatta, with distance of 0.4301342801415037\n",
      "5: No Shiba no Shiba, with distance of 0.4330591071437755\n"
     ]
    }
   ],
   "source": [
    "give_rec_knn(\"Steins;Gate\")\n",
    "give_rec_knn()"
   ]
  },
  {
   "cell_type": "markdown",
   "id": "2e31bff3",
   "metadata": {
    "papermill": {
     "duration": 0.015247,
     "end_time": "2023-05-27T08:30:02.652623",
     "exception": false,
     "start_time": "2023-05-27T08:30:02.637376",
     "status": "completed"
    },
    "tags": []
   },
   "source": [
    "## Content Based Filtering\n",
    "Content-based filtering is a recommendation system technique that recommends items based on their intrinsic features or attributes. It identifies items similar to the ones the user has shown interest in and recommends them. For example, a movie recommendation system might recommend other movies with similar genres, actors, directors, or plot themes to those previously watched by the user. Content-based filtering does not rely on the preferences of other users and can work well for new or niche items with little user data. However, it may suffer from limited diversity in recommendations and inability to capture serendipitous recommendations."
   ]
  },
  {
   "cell_type": "markdown",
   "id": "4559dcd9",
   "metadata": {
    "papermill": {
     "duration": 0.015232,
     "end_time": "2023-05-27T08:30:02.683259",
     "exception": false,
     "start_time": "2023-05-27T08:30:02.668027",
     "status": "completed"
    },
    "tags": []
   },
   "source": [
    "## TF-IDF Vectorizer\n",
    "TF-IDF stands for Term Frequency-Inverse Document Frequency.<br>\n",
    "TF-IDF vectorizer is a specific implementation of the TF-IDF technique. It is a commonly used technique in natural language processing to convert a collection of text documents into numerical feature vectors, which can be used for machine learning tasks like text classification or clustering.\n",
    "* It first counts the number of occurrences of each word (term) in each document (text) in the collection, and then * calculates a weight for each term based on how frequently it appears across all documents. \n",
    "* The weight is higher for terms that appear frequently in a particular document, but not so much in other documents. \n",
    "* The weight is also higher for terms that appear less frequently across all documents.\n",
    "\n",
    "This helps to give more importance to words that are relevant to a specific document and less importance to common words that are not specific to any document."
   ]
  },
  {
   "cell_type": "code",
   "execution_count": 22,
   "id": "bb6c0ad5",
   "metadata": {
    "execution": {
     "iopub.execute_input": "2023-05-27T08:30:02.716283Z",
     "iopub.status.busy": "2023-05-27T08:30:02.715865Z",
     "iopub.status.idle": "2023-05-27T08:30:03.101370Z",
     "shell.execute_reply": "2023-05-27T08:30:03.100071Z"
    },
    "papermill": {
     "duration": 0.40517,
     "end_time": "2023-05-27T08:30:03.103984",
     "exception": false,
     "start_time": "2023-05-27T08:30:02.698814",
     "status": "completed"
    },
    "tags": []
   },
   "outputs": [
    {
     "name": "stdout",
     "output_type": "stream",
     "text": [
      "(17562, 2283)\n"
     ]
    }
   ],
   "source": [
    "from sklearn.feature_extraction.text import TfidfVectorizer\n",
    "\n",
    "tfv = TfidfVectorizer(min_df=3, max_features=None, strip_accents='unicode', analyzer='word', token_pattern=r'\\w{1,}', ngram_range=(1, 3), stop_words='english')\n",
    "\n",
    "anime_data['Genres'] = anime_data['Genres'].fillna('')\n",
    "\n",
    "genres_str = anime_data['Genres'].str.split(',').astype(str)\n",
    "\n",
    "tfv_matrix = tfv.fit_transform(genres_str)\n",
    "\n",
    "print(tfv_matrix.shape)"
   ]
  },
  {
   "cell_type": "markdown",
   "id": "efb29dbe",
   "metadata": {
    "papermill": {
     "duration": 0.015465,
     "end_time": "2023-05-27T08:30:03.135473",
     "exception": false,
     "start_time": "2023-05-27T08:30:03.120008",
     "status": "completed"
    },
    "tags": []
   },
   "source": [
    "The sigmoid kernel is a type of kernel function used in machine learning for non-linear classification and regression. It maps the data into a higher-dimensional space and computes the dot product between two data points in that space. \n",
    "* The sigmoid_kernel is a similarity function that computes the sigmoid kernel between two input feature vectors.\n",
    "\n",
    "* It is commonly used in machine learning for non-linear classification and regression tasks.\n",
    "\n",
    "* The sigmoid kernel function takes two feature vectors as input and computes a value between 0 and 1, where 1 indicates a high degree of similarity between the two vectors and 0 indicates no similarity.\n",
    "\n",
    "* The sigmoid kernel function applies the sigmoid function to the dot product of the two feature vectors, which transforms the dot product into a value between 0 and 1.\n",
    "\n",
    "* The `sigmoid_kernel` is being used to compute the similarity between anime genres based on their TF-IDF feature vectors, which can be used for content-based recommendation systems."
   ]
  },
  {
   "cell_type": "code",
   "execution_count": 23,
   "id": "89d19a30",
   "metadata": {
    "execution": {
     "iopub.execute_input": "2023-05-27T08:30:03.169315Z",
     "iopub.status.busy": "2023-05-27T08:30:03.168280Z",
     "iopub.status.idle": "2023-05-27T08:30:13.175265Z",
     "shell.execute_reply": "2023-05-27T08:30:13.174300Z"
    },
    "papermill": {
     "duration": 10.026963,
     "end_time": "2023-05-27T08:30:13.178193",
     "exception": false,
     "start_time": "2023-05-27T08:30:03.151230",
     "status": "completed"
    },
    "tags": []
   },
   "outputs": [],
   "source": [
    "from sklearn.metrics.pairwise import sigmoid_kernel\n",
    "\n",
    "sig = sigmoid_kernel(tfv_matrix, tfv_matrix)"
   ]
  },
  {
   "cell_type": "code",
   "execution_count": 24,
   "id": "dcb1d7d1",
   "metadata": {
    "execution": {
     "iopub.execute_input": "2023-05-27T08:30:13.213130Z",
     "iopub.status.busy": "2023-05-27T08:30:13.212733Z",
     "iopub.status.idle": "2023-05-27T08:30:13.218946Z",
     "shell.execute_reply": "2023-05-27T08:30:13.218116Z"
    },
    "papermill": {
     "duration": 0.025648,
     "end_time": "2023-05-27T08:30:13.221113",
     "exception": false,
     "start_time": "2023-05-27T08:30:13.195465",
     "status": "completed"
    },
    "tags": []
   },
   "outputs": [],
   "source": [
    "indices = pd.Series(anime_data.index, index=anime_data['Name'])\n",
    "\n",
    "indices = indices.drop_duplicates()"
   ]
  },
  {
   "cell_type": "code",
   "execution_count": 25,
   "id": "47c986bb",
   "metadata": {
    "execution": {
     "iopub.execute_input": "2023-05-27T08:30:13.255505Z",
     "iopub.status.busy": "2023-05-27T08:30:13.254660Z",
     "iopub.status.idle": "2023-05-27T08:30:13.261515Z",
     "shell.execute_reply": "2023-05-27T08:30:13.260688Z"
    },
    "papermill": {
     "duration": 0.026539,
     "end_time": "2023-05-27T08:30:13.263750",
     "exception": false,
     "start_time": "2023-05-27T08:30:13.237211",
     "status": "completed"
    },
    "tags": []
   },
   "outputs": [],
   "source": [
    "def give_rec_cbf(title, sig=sig):\n",
    "    idx = indices[title]\n",
    "    \n",
    "    sig_scores = list(enumerate(sig[idx]))\n",
    "    \n",
    "    sig_scores = sorted(sig_scores, key=lambda x: x[1], reverse=True)\n",
    "    \n",
    "    anime_indices = [i[0] for i in sig_scores[1: 11]]\n",
    "    \n",
    "    top_anime = pd.DataFrame({\n",
    "        'Anime name': anime_data['Name'].iloc[anime_indices].values,\n",
    "        'Rating': anime_data['Score'].iloc[anime_indices].values\n",
    "    })\n",
    "    return top_anime"
   ]
  },
  {
   "cell_type": "code",
   "execution_count": 26,
   "id": "e105792f",
   "metadata": {
    "execution": {
     "iopub.execute_input": "2023-05-27T08:30:13.297391Z",
     "iopub.status.busy": "2023-05-27T08:30:13.296705Z",
     "iopub.status.idle": "2023-05-27T08:30:13.329554Z",
     "shell.execute_reply": "2023-05-27T08:30:13.328401Z"
    },
    "papermill": {
     "duration": 0.052409,
     "end_time": "2023-05-27T08:30:13.331908",
     "exception": false,
     "start_time": "2023-05-27T08:30:13.279499",
     "status": "completed"
    },
    "tags": []
   },
   "outputs": [
    {
     "data": {
      "text/html": [
       "<div>\n",
       "<style scoped>\n",
       "    .dataframe tbody tr th:only-of-type {\n",
       "        vertical-align: middle;\n",
       "    }\n",
       "\n",
       "    .dataframe tbody tr th {\n",
       "        vertical-align: top;\n",
       "    }\n",
       "\n",
       "    .dataframe thead th {\n",
       "        text-align: right;\n",
       "    }\n",
       "</style>\n",
       "<table border=\"1\" class=\"dataframe\">\n",
       "  <thead>\n",
       "    <tr style=\"text-align: right;\">\n",
       "      <th></th>\n",
       "      <th>Anime name</th>\n",
       "      <th>Rating</th>\n",
       "    </tr>\n",
       "  </thead>\n",
       "  <tbody>\n",
       "    <tr>\n",
       "      <th>0</th>\n",
       "      <td>One Piece: Episode of Sabo - 3 Kyoudai no Kizu...</td>\n",
       "      <td>7.72</td>\n",
       "    </tr>\n",
       "    <tr>\n",
       "      <th>1</th>\n",
       "      <td>One Piece: Long Ring Long Land-hen</td>\n",
       "      <td>6.74</td>\n",
       "    </tr>\n",
       "    <tr>\n",
       "      <th>2</th>\n",
       "      <td>One Piece: Episode of East Blue - Luffy to 4-n...</td>\n",
       "      <td>7.91</td>\n",
       "    </tr>\n",
       "    <tr>\n",
       "      <th>3</th>\n",
       "      <td>One Piece: Episode of Sorajima</td>\n",
       "      <td>7.11</td>\n",
       "    </tr>\n",
       "    <tr>\n",
       "      <th>4</th>\n",
       "      <td>Shingeki no Kyojin OVA</td>\n",
       "      <td>7.83</td>\n",
       "    </tr>\n",
       "    <tr>\n",
       "      <th>5</th>\n",
       "      <td>Shingeki no Kyojin Movie 2: Jiyuu no Tsubasa</td>\n",
       "      <td>7.74</td>\n",
       "    </tr>\n",
       "    <tr>\n",
       "      <th>6</th>\n",
       "      <td>R.O.D: The TV</td>\n",
       "      <td>7.55</td>\n",
       "    </tr>\n",
       "    <tr>\n",
       "      <th>7</th>\n",
       "      <td>Zetsubou Funsai Shoujo ∞ Amida</td>\n",
       "      <td>6.55</td>\n",
       "    </tr>\n",
       "    <tr>\n",
       "      <th>8</th>\n",
       "      <td>One Piece Movie 1</td>\n",
       "      <td>7.1</td>\n",
       "    </tr>\n",
       "    <tr>\n",
       "      <th>9</th>\n",
       "      <td>One Piece Movie 2: Nejimaki-jima no Daibouken</td>\n",
       "      <td>7.17</td>\n",
       "    </tr>\n",
       "  </tbody>\n",
       "</table>\n",
       "</div>"
      ],
      "text/plain": [
       "                                          Anime name Rating\n",
       "0  One Piece: Episode of Sabo - 3 Kyoudai no Kizu...   7.72\n",
       "1                 One Piece: Long Ring Long Land-hen   6.74\n",
       "2  One Piece: Episode of East Blue - Luffy to 4-n...   7.91\n",
       "3                     One Piece: Episode of Sorajima   7.11\n",
       "4                             Shingeki no Kyojin OVA   7.83\n",
       "5       Shingeki no Kyojin Movie 2: Jiyuu no Tsubasa   7.74\n",
       "6                                      R.O.D: The TV   7.55\n",
       "7                     Zetsubou Funsai Shoujo ∞ Amida   6.55\n",
       "8                                  One Piece Movie 1    7.1\n",
       "9      One Piece Movie 2: Nejimaki-jima no Daibouken   7.17"
      ]
     },
     "execution_count": 26,
     "metadata": {},
     "output_type": "execute_result"
    }
   ],
   "source": [
    "give_rec_cbf('One Piece')"
   ]
  }
 ],
 "metadata": {
  "kernelspec": {
   "display_name": "Python 3",
   "language": "python",
   "name": "python3"
  },
  "language_info": {
   "codemirror_mode": {
    "name": "ipython",
    "version": 3
   },
   "file_extension": ".py",
   "mimetype": "text/x-python",
   "name": "python",
   "nbconvert_exporter": "python",
   "pygments_lexer": "ipython3",
   "version": "3.10.10"
  },
  "papermill": {
   "default_parameters": {},
   "duration": 369.100693,
   "end_time": "2023-05-27T08:30:15.970109",
   "environment_variables": {},
   "exception": null,
   "input_path": "__notebook__.ipynb",
   "output_path": "__notebook__.ipynb",
   "parameters": {},
   "start_time": "2023-05-27T08:24:06.869416",
   "version": "2.4.0"
  }
 },
 "nbformat": 4,
 "nbformat_minor": 5
}
